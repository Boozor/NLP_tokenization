{
  "nbformat": 4,
  "nbformat_minor": 0,
  "metadata": {
    "colab": {
      "name": "NLP_tokenization.ipynb",
      "provenance": [],
      "toc_visible": true,
      "authorship_tag": "ABX9TyNZ/JXkft3dFY68lO54Dftg",
      "include_colab_link": true
    },
    "kernelspec": {
      "name": "python3",
      "display_name": "Python 3"
    },
    "language_info": {
      "name": "python"
    }
  },
  "cells": [
    {
      "cell_type": "markdown",
      "metadata": {
        "id": "view-in-github",
        "colab_type": "text"
      },
      "source": [
        "<a href=\"https://colab.research.google.com/github/LeoVal1/NLP_tokenization/blob/main/NLP_tokenization.ipynb\" target=\"_parent\"><img src=\"https://colab.research.google.com/assets/colab-badge.svg\" alt=\"Open In Colab\"/></a>"
      ]
    },
    {
      "cell_type": "markdown",
      "metadata": {
        "id": "fFv-USWkhQKA"
      },
      "source": [
        "# Tokenizing text, creating sequences for sentences and Padding"
      ]
    },
    {
      "cell_type": "markdown",
      "metadata": {
        "id": "4mGaRDFcSamt"
      },
      "source": [
        "## Import the Tokenizer"
      ]
    },
    {
      "cell_type": "code",
      "execution_count": 1,
      "metadata": {
        "id": "EN1-FZodOuPl"
      },
      "outputs": [],
      "source": [
        "# Import the Tokenizer\n",
        "from tensorflow.keras.preprocessing.text import Tokenizer\n",
        "from tensorflow.keras.preprocessing.text import Tokenizer\n",
        "from tensorflow.keras.preprocessing.sequence import pad_sequences\n"
      ]
    },
    {
      "cell_type": "markdown",
      "metadata": {
        "id": "C5Qwn_7FSXW-"
      },
      "source": [
        "## Write some sentences\n",
        "\n",
        "Feel free to change and add sentences as you like"
      ]
    },
    {
      "cell_type": "code",
      "execution_count": 2,
      "metadata": {
        "id": "RMiq8BpWVVRa"
      },
      "outputs": [],
      "source": [
        "sentences = [\n",
        "    'CSS stands for Cascading Style Sheets',\n",
        "    'CSS describes how HTML elements are to be displayed on screen, paper, or in other media',\n",
        "    'CSS saves a lot of work. It can control the layout of multiple web pages all at once',\n",
        "    'External stylesheets are stored in CSS files',\n",
        "    'In a programming language, variables are used to store data values.',\n",
        "    'JavaScript uses the var keyword to declare variables.',\n",
        "    'An equal sign is used to assign values to variables',\n",
        "]"
      ]
    },
    {
      "cell_type": "markdown",
      "metadata": {
        "id": "wz845OtfRBCM"
      },
      "source": [
        "## Tokenize the words\n",
        "\n",
        "The first step to preparing text to be used in a machine learning model is to tokenize the text, in other words, to generate numbers for the words."
      ]
    },
    {
      "cell_type": "code",
      "execution_count": 3,
      "metadata": {
        "id": "ZHTK1DAlQ1zO"
      },
      "outputs": [],
      "source": [
        "# Optionally set the max number of words to tokenize.\n",
        "# The out of vocabulary (OOV) token represents words that are not in the index.\n",
        "# Call fit_on_text() on the tokenizer to generate unique numbers for each word\n",
        "tokenizer = Tokenizer(num_words = 150, oov_token=\"<OOV>\")\n",
        "tokenizer.fit_on_texts(sentences)\n"
      ]
    },
    {
      "cell_type": "markdown",
      "metadata": {
        "id": "Mylv-WuiRzd0"
      },
      "source": [
        "## View the word index\n",
        "After you tokenize the text, the tokenizer has a word index that contains key-value pairs for all the words and their numbers.\n",
        "\n",
        "The word is the key, and the number is the value.\n",
        "\n",
        "Notice that the OOV token is the first entry.\n"
      ]
    },
    {
      "cell_type": "code",
      "execution_count": 4,
      "metadata": {
        "id": "kX4VvsLySC7Z",
        "outputId": "86cc444b-0ba2-40d3-b35e-0dd15ef66cc6",
        "colab": {
          "base_uri": "https://localhost:8080/"
        }
      },
      "outputs": [
        {
          "output_type": "stream",
          "name": "stdout",
          "text": [
            "{'<OOV>': 1, 'to': 2, 'css': 3, 'are': 4, 'in': 5, 'variables': 6, 'a': 7, 'of': 8, 'the': 9, 'used': 10, 'values': 11, 'stands': 12, 'for': 13, 'cascading': 14, 'style': 15, 'sheets': 16, 'describes': 17, 'how': 18, 'html': 19, 'elements': 20, 'be': 21, 'displayed': 22, 'on': 23, 'screen': 24, 'paper': 25, 'or': 26, 'other': 27, 'media': 28, 'saves': 29, 'lot': 30, 'work': 31, 'it': 32, 'can': 33, 'control': 34, 'layout': 35, 'multiple': 36, 'web': 37, 'pages': 38, 'all': 39, 'at': 40, 'once': 41, 'external': 42, 'stylesheets': 43, 'stored': 44, 'files': 45, 'programming': 46, 'language': 47, 'store': 48, 'data': 49, 'javascript': 50, 'uses': 51, 'var': 52, 'keyword': 53, 'declare': 54, 'an': 55, 'equal': 56, 'sign': 57, 'is': 58, 'assign': 59}\n"
          ]
        }
      ],
      "source": [
        "# Examine the word index\n",
        "word_index = tokenizer.word_index\n",
        "print(word_index)"
      ]
    },
    {
      "cell_type": "code",
      "execution_count": 5,
      "metadata": {
        "id": "JXKrGxsIVtLo",
        "outputId": "43913493-1cd9-4e58-bf53-17101a73ef3c",
        "colab": {
          "base_uri": "https://localhost:8080/"
        }
      },
      "outputs": [
        {
          "output_type": "stream",
          "name": "stdout",
          "text": [
            "43\n"
          ]
        }
      ],
      "source": [
        "# Get the number for a given word\n",
        "print(word_index['stylesheets'])"
      ]
    },
    {
      "cell_type": "markdown",
      "metadata": {
        "id": "kcN_yM8O1oSX"
      },
      "source": [
        "# Create sequences for the sentences\n",
        "\n",
        "After you tokenize the words, the word index contains a unique number for each word. However, the numbers in the word index are not ordered. Words in a sentence have an order. So after tokenizing the words, the next step is to generate sequences for the sentences."
      ]
    },
    {
      "cell_type": "code",
      "execution_count": 5,
      "metadata": {
        "id": "QlUL6Ybf1sso",
        "outputId": "91b8e33d-ea16-4064-b92e-0a7e1bc7a889",
        "colab": {
          "base_uri": "https://localhost:8080/"
        }
      },
      "outputs": [
        {
          "output_type": "stream",
          "name": "stdout",
          "text": [
            "[[3, 12, 13, 14, 15, 16], [3, 17, 18, 19, 20, 4, 2, 21, 22, 23, 24, 25, 26, 5, 27, 28], [3, 29, 7, 30, 8, 31, 32, 33, 34, 9, 35, 8, 36, 37, 38, 39, 40, 41], [42, 43, 4, 44, 5, 3, 45], [5, 7, 46, 47, 6, 4, 10, 2, 48, 49, 11], [50, 51, 9, 52, 53, 2, 54, 6], [55, 56, 57, 58, 10, 2, 59, 11, 2, 6]]\n"
          ]
        }
      ],
      "source": [
        "sequences = tokenizer.texts_to_sequences(sentences)\n",
        "print (sequences)"
      ]
    },
    {
      "cell_type": "markdown",
      "metadata": {
        "id": "AswZPbuW8f-f"
      },
      "source": [
        "# Sequence sentences that contain words that are not in the word index\n",
        "\n",
        "Let's take a look at what happens if the sentence being sequenced contains words that are not in the word index.\n",
        "\n",
        "The Out of Vocabluary (OOV) token is the first entry in the word index. You will see it shows up in the sequences in place of any word that is not in the word index."
      ]
    },
    {
      "cell_type": "code",
      "execution_count": 6,
      "metadata": {
        "id": "Fir7qd6X8eZc",
        "outputId": "ef263ec9-d0c2-4a40-8e7f-b78e0b2d5545",
        "colab": {
          "base_uri": "https://localhost:8080/"
        }
      },
      "outputs": [
        {
          "output_type": "stream",
          "name": "stdout",
          "text": [
            "[[1, 1, 1, 1], [1, 1, 1, 1, 1, 1, 1, 1, 1, 1, 1, 1, 1, 1, 1, 1, 1, 1, 1, 1]]\n"
          ]
        }
      ],
      "source": [
        "sentences2 = [\"I like hot chocolate\", \"My dogs and my hedgehog like kibble but my squirrel prefers grapes and my chickens like ice cream, preferably vanilla\"]\n",
        "\n",
        "sequences2 = tokenizer.texts_to_sequences(sentences2)\n",
        "print(sequences2)"
      ]
    },
    {
      "cell_type": "markdown",
      "source": [
        "## Padding the Sequences"
      ],
      "metadata": {
        "id": "Z1Lq7RQIcnUd"
      }
    },
    {
      "cell_type": "markdown",
      "source": [
        "Make the sequences all the same length\n",
        "Later, when you feed the sequences into a neural network to train a model, the sequences all need to be uniform in size. Currently the sequences have varied lengths, so the next step is to make them all be the same size, either by padding them with zeros and/or truncating them.\n",
        "\n",
        "Use f.keras.preprocessing.sequence.pad_sequences to add zeros to the sequences to make them all be the same length. By default, the padding goes at the start of the sequences, but you can specify to pad at the end.\n",
        "\n",
        "You can optionally specify the maximum length to pad the sequences to. Sequences that are longer than the specified max length will be truncated. By default, sequences are truncated from the beginning of the sequence, but you can specify to truncate from the end.\n",
        "\n",
        "If you don't provide the max length, then the sequences are padded to match the length of the longest sentence."
      ],
      "metadata": {
        "id": "TccXRzCzCuYd"
      }
    },
    {
      "cell_type": "code",
      "source": [
        "padded = pad_sequences(sequences)\n",
        "print(\"\\nWord Index = \" , word_index)\n",
        "print(\"\\nSequences = \" , sequences)\n",
        "print(\"\\nPadded Sequences:\")\n",
        "print(padded)\n"
      ],
      "metadata": {
        "colab": {
          "base_uri": "https://localhost:8080/"
        },
        "id": "Yp-MNxQXCzE2",
        "outputId": "96fe07d4-b672-4b06-a085-200f08a0956d"
      },
      "execution_count": 7,
      "outputs": [
        {
          "output_type": "stream",
          "name": "stdout",
          "text": [
            "\n",
            "Word Index =  {'<OOV>': 1, 'to': 2, 'css': 3, 'are': 4, 'in': 5, 'variables': 6, 'a': 7, 'of': 8, 'the': 9, 'used': 10, 'values': 11, 'stands': 12, 'for': 13, 'cascading': 14, 'style': 15, 'sheets': 16, 'describes': 17, 'how': 18, 'html': 19, 'elements': 20, 'be': 21, 'displayed': 22, 'on': 23, 'screen': 24, 'paper': 25, 'or': 26, 'other': 27, 'media': 28, 'saves': 29, 'lot': 30, 'work': 31, 'it': 32, 'can': 33, 'control': 34, 'layout': 35, 'multiple': 36, 'web': 37, 'pages': 38, 'all': 39, 'at': 40, 'once': 41, 'external': 42, 'stylesheets': 43, 'stored': 44, 'files': 45, 'programming': 46, 'language': 47, 'store': 48, 'data': 49, 'javascript': 50, 'uses': 51, 'var': 52, 'keyword': 53, 'declare': 54, 'an': 55, 'equal': 56, 'sign': 57, 'is': 58, 'assign': 59}\n",
            "\n",
            "Sequences =  [[3, 12, 13, 14, 15, 16], [3, 17, 18, 19, 20, 4, 2, 21, 22, 23, 24, 25, 26, 5, 27, 28], [3, 29, 7, 30, 8, 31, 32, 33, 34, 9, 35, 8, 36, 37, 38, 39, 40, 41], [42, 43, 4, 44, 5, 3, 45], [5, 7, 46, 47, 6, 4, 10, 2, 48, 49, 11], [50, 51, 9, 52, 53, 2, 54, 6], [55, 56, 57, 58, 10, 2, 59, 11, 2, 6]]\n",
            "\n",
            "Padded Sequences:\n",
            "[[ 0  0  0  0  0  0  0  0  0  0  0  0  3 12 13 14 15 16]\n",
            " [ 0  0  3 17 18 19 20  4  2 21 22 23 24 25 26  5 27 28]\n",
            " [ 3 29  7 30  8 31 32 33 34  9 35  8 36 37 38 39 40 41]\n",
            " [ 0  0  0  0  0  0  0  0  0  0  0 42 43  4 44  5  3 45]\n",
            " [ 0  0  0  0  0  0  0  5  7 46 47  6  4 10  2 48 49 11]\n",
            " [ 0  0  0  0  0  0  0  0  0  0 50 51  9 52 53  2 54  6]\n",
            " [ 0  0  0  0  0  0  0  0 55 56 57 58 10  2 59 11  2  6]]\n"
          ]
        }
      ]
    },
    {
      "cell_type": "code",
      "execution_count": 8,
      "metadata": {
        "id": "VzbGtYWQ6Ofo",
        "colab": {
          "base_uri": "https://localhost:8080/"
        },
        "outputId": "e2428cca-4b92-49e1-f01e-5e0bf022ce5d"
      },
      "outputs": [
        {
          "output_type": "stream",
          "name": "stdout",
          "text": [
            "[[ 0  0  0  0  0  0  0  0  0  0  0  0  0  0  3 12 13 14 15 16]\n",
            " [ 0  0  0  0  3 17 18 19 20  4  2 21 22 23 24 25 26  5 27 28]\n",
            " [ 0  0  3 29  7 30  8 31 32 33 34  9 35  8 36 37 38 39 40 41]\n",
            " [ 0  0  0  0  0  0  0  0  0  0  0  0  0 42 43  4 44  5  3 45]\n",
            " [ 0  0  0  0  0  0  0  0  0  5  7 46 47  6  4 10  2 48 49 11]\n",
            " [ 0  0  0  0  0  0  0  0  0  0  0  0 50 51  9 52 53  2 54  6]\n",
            " [ 0  0  0  0  0  0  0  0  0  0 55 56 57 58 10  2 59 11  2  6]]\n"
          ]
        }
      ],
      "source": [
        "# Specify a max length for the padded sequences\n",
        "padded = pad_sequences(sequences, maxlen=20)\n",
        "print(padded)"
      ]
    },
    {
      "cell_type": "code",
      "execution_count": 9,
      "metadata": {
        "id": "HzkbHi0B64w8",
        "colab": {
          "base_uri": "https://localhost:8080/"
        },
        "outputId": "cd82a09a-9198-44c7-d2e5-820e4889c156"
      },
      "outputs": [
        {
          "output_type": "stream",
          "name": "stdout",
          "text": [
            "[[ 3 12 13 14 15 16  0  0  0  0  0  0  0  0  0  0  0  0  0  0]\n",
            " [ 3 17 18 19 20  4  2 21 22 23 24 25 26  5 27 28  0  0  0  0]\n",
            " [ 3 29  7 30  8 31 32 33 34  9 35  8 36 37 38 39 40 41  0  0]\n",
            " [42 43  4 44  5  3 45  0  0  0  0  0  0  0  0  0  0  0  0  0]\n",
            " [ 5  7 46 47  6  4 10  2 48 49 11  0  0  0  0  0  0  0  0  0]\n",
            " [50 51  9 52 53  2 54  6  0  0  0  0  0  0  0  0  0  0  0  0]\n",
            " [55 56 57 58 10  2 59 11  2  6  0  0  0  0  0  0  0  0  0  0]]\n"
          ]
        }
      ],
      "source": [
        "# Put the padding at the end of the sequences\n",
        "padded = pad_sequences(sequences, maxlen=20, padding=\"post\")\n",
        "print(padded)"
      ]
    },
    {
      "cell_type": "code",
      "execution_count": 10,
      "metadata": {
        "id": "OLHheI477okX",
        "colab": {
          "base_uri": "https://localhost:8080/"
        },
        "outputId": "6c54bcc1-7950-4ca1-c6fb-619242e7ce03"
      },
      "outputs": [
        {
          "output_type": "stream",
          "name": "stdout",
          "text": [
            "[[ 0  0  0  3 12 13 14 15 16]\n",
            " [21 22 23 24 25 26  5 27 28]\n",
            " [ 9 35  8 36 37 38 39 40 41]\n",
            " [ 0  0 42 43  4 44  5  3 45]\n",
            " [46 47  6  4 10  2 48 49 11]\n",
            " [ 0 50 51  9 52 53  2 54  6]\n",
            " [56 57 58 10  2 59 11  2  6]]\n"
          ]
        }
      ],
      "source": [
        "# Limit the length of the sequences, you will see some sequences get truncated\n",
        "padded = pad_sequences(sequences, maxlen=9)\n",
        "print(padded)"
      ]
    },
    {
      "cell_type": "markdown",
      "metadata": {
        "id": "OnRKDsR197-J"
      },
      "source": [
        "## What happens if some of the sentences contain words that are not in the word index?\n",
        "\n",
        "Here's where the \"out of vocabulary\" token is used. Try generating sequences for some sentences that have words that are not in the word index."
      ]
    },
    {
      "cell_type": "code",
      "execution_count": 11,
      "metadata": {
        "id": "iqodOpn64c2U",
        "colab": {
          "base_uri": "https://localhost:8080/"
        },
        "outputId": "835f47e3-4b53-40ba-868d-c0e5286b4e0a"
      },
      "outputs": [
        {
          "output_type": "stream",
          "name": "stdout",
          "text": [
            "[\"my best friend's favorite ice cream flavor is strawberry\", \"my dog's best friend is a manatee\"]\n",
            "<OOV> has the number 1 in the word index.\n",
            "\n",
            "Test Sequence =  [[1, 1, 1, 1, 1, 1, 1, 58, 1], [1, 1, 1, 1, 58, 7, 1]]\n",
            "\n",
            "Padded Test Sequence: \n",
            "[[ 0  1  1  1  1  1  1  1 58  1]\n",
            " [ 0  0  0  1  1  1  1 58  7  1]]\n"
          ]
        }
      ],
      "source": [
        "# Try turning sentences that contain words that \n",
        "# aren't in the word index into sequences.\n",
        "# Add your own sentences to the test_data\n",
        "test_data = [\n",
        "    \"my best friend's favorite ice cream flavor is strawberry\",\n",
        "    \"my dog's best friend is a manatee\"\n",
        "]\n",
        "print (test_data)\n",
        "\n",
        "# Remind ourselves which number corresponds to the\n",
        "# out of vocabulary token in the word index\n",
        "print(\"<OOV> has the number\", word_index['<OOV>'], \"in the word index.\")\n",
        "\n",
        "# Convert the test sentences to sequences\n",
        "test_seq = tokenizer.texts_to_sequences(test_data)\n",
        "print(\"\\nTest Sequence = \", test_seq)\n",
        "\n",
        "# Pad the new sequences\n",
        "padded = pad_sequences(test_seq, maxlen=10)\n",
        "print(\"\\nPadded Test Sequence: \")\n",
        "\n",
        "# Notice that \"1\" appears in the sequence wherever there's a word \n",
        "# that's not in the word index\n",
        "print(padded)"
      ]
    }
  ]
}